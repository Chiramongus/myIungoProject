{
 "cells": [
  {
   "cell_type": "code",
   "execution_count": 12,
   "metadata": {},
   "outputs": [],
   "source": [
    "import json #Import Json Module to allow json read/write functionality\n",
    "\n",
    "#Initialise a new file to write to, Dump task text\n",
    "with open(\"my_new_file.txt\", \"w\") as outfile: \n",
    "    list = [\"Hello World!\",\"This is a text file\"]\n",
    "    list.append(\"This line was appended using python\")\n",
    "    json.dump(list, outfile, indent=4)"
   ]
  },
  {
   "cell_type": "code",
   "execution_count": null,
   "metadata": {},
   "outputs": [
    {
     "name": "stdout",
     "output_type": "stream",
     "text": [
      "['Hello World!', 'This is a text file']\n"
     ]
    }
   ],
   "source": [
    "#read the new text file and save the contents to a variable, print that variable to the console\n",
    "with open(\"my_new_file.txt\", \"r\") as infile:\n",
    "    contents = json.load(infile)\n",
    "    print(contents)"
   ]
  },
  {
   "cell_type": "code",
   "execution_count": null,
   "metadata": {},
   "outputs": [
    {
     "name": "stdout",
     "output_type": "stream",
     "text": [
      "The total number of lines is 5\n"
     ]
    }
   ],
   "source": [
    "#use the len function to count the number of indicies from the output of the readlines function - use and fstring to output the results\n",
    "with open(\"my_new_file.txt\", \"r\") as infile:\n",
    "    no_lines = len(infile.readlines())\n",
    "    print(f\"The total number of lines is {no_lines}\")\n",
    "\n"
   ]
  },
  {
   "cell_type": "code",
   "execution_count": null,
   "metadata": {},
   "outputs": [],
   "source": [
    "#create a cars.json file and fill it with a list of car objects. output to the root folder.\n",
    "with open(\"Cars.json\", \"w\") as outfile:\n",
    "    cars = [{\n",
    "        \"manufacturer\" : \"Ferrari\",\n",
    "        \"model\" : \"F1\",\n",
    "        \"top_speed\" : 180,\n",
    "        \"age\" : 2024\n",
    "    },{\n",
    "        \"manufacturer\" : \"Mclaren\",\n",
    "        \"model\" : \"F1\",\n",
    "        \"top_speed\" : 200,\n",
    "        \"age\" : 2024\n",
    "    },{\n",
    "        \"manufacturer\" : \"RedBull\",\n",
    "        \"model\" : \"F1\",\n",
    "        \"top_speed\" : 220,\n",
    "        \"age\" : 2024\n",
    "    }]\n",
    "    json.dump(cars, outfile)"
   ]
  },
  {
   "cell_type": "code",
   "execution_count": null,
   "metadata": {},
   "outputs": [
    {
     "name": "stdout",
     "output_type": "stream",
     "text": [
      "This car is the Ferrari F1 racecar with a top speed of 180\n",
      "This car is the Mclaren F1 racecar with a top speed of 200\n",
      "This car is the RedBull F1 racecar with a top speed of 220\n",
      "This car is the Mercedes F1 racecar with a top speed of 205\n"
     ]
    }
   ],
   "source": [
    "\n",
    "#add an extra entry to the cars.json file\n",
    "with open(\"Cars.Json\", \"r\") as infile:\n",
    "    cars = json.load(infile)\n",
    "    cars.append({        \n",
    "        \"manufacturer\" : \"Mercedes\",\n",
    "        \"model\" : \"F1\",\n",
    "        \"top_speed\" : 205,\n",
    "        \"age\" : 2024\n",
    "\n",
    "    })\n",
    "\n",
    "#loop through the cars dictionary and print out the make, model and top speed of each car    \n",
    "for i in range(len(cars)):\n",
    "    print(f\"This car is the {cars[i]['manufacturer']} {cars[i]['model']} racecar with a top speed of {cars[i]['top_speed']}\")\n",
    "\n",
    "#output the new dictionary to the Json file\n",
    "with open(\"Cars.json\", \"w\") as outfile:\n",
    "    json.dump(cars, outfile, indent=4)    \n",
    "\n",
    "#read the json file of all cars to update the dictionary\n",
    "with open(\"Cars.json\", \"r\") as infile:\n",
    "    cars = json.load(infile)\n",
    "#create a new empty list for our fast cars. iterate over the full list of cars and append any with a speed over 200 to the fast cars list.\n",
    "fast_cars = []\n",
    "for i in range(len(cars)):\n",
    "    if cars[i][\"top_speed\"] > 200:\n",
    "        fast_cars.append(cars[i])\n",
    "\n",
    "#output fast cars list to a new file\n",
    "with open(\"fast_cars.json\", \"w\") as outfile:\n",
    "    json.dump(fast_cars, outfile, indent=4)\n"
   ]
  },
  {
   "cell_type": "markdown",
   "metadata": {},
   "source": []
  },
  {
   "cell_type": "code",
   "execution_count": null,
   "metadata": {},
   "outputs": [],
   "source": [
    "#define a function that takes a user input of a file to read.\n",
    "#check if that file is in the list of available files - if so, read the data into a variable. Otherwise request a new file name.\n",
    "def get_file():\n",
    "    user_input_file = input(\"please input the name of the file you would like to read:\" )\n",
    "    files = [\"brandnewfile.json\",\"brandnewfile.txt\", \"Cars.json\", \"fast_cars.json\",\"my_new_file.txt\"]\n",
    "    if user_input_file in files:\n",
    "        with open(user_input_file, \"r\") as infile:\n",
    "            file_data = json.load(infile)\n",
    "    else:\n",
    "        get_file()        \n",
    "\n",
    "#get user to input a format - if anything except J or T - ask for a new input. otherwise, output the read data to a new file in the specified format\n",
    "def get_format():\n",
    "    user_format = input(\"please enter 'J' for a json format or 'T' for a text format: \")\n",
    "    user_format.lower()\n",
    "    if user_format == \"j\":\n",
    "        with open(\"brandnewfile.json\", \"w\") as outfile:\n",
    "            json.dump(file_data, outfile, indent = 4)\n",
    "    elif user_format == \"t\":        \n",
    "        with open(\"brandnewfile.txt\", \"w\") as outfile:\n",
    "            json.dump(file_data, outfile)\n",
    "    else:\n",
    "        get_format()\n",
    "get_file()        \n",
    "get_format()        "
   ]
  }
 ],
 "metadata": {
  "kernelspec": {
   "display_name": "Python 3",
   "language": "python",
   "name": "python3"
  },
  "language_info": {
   "codemirror_mode": {
    "name": "ipython",
    "version": 3
   },
   "file_extension": ".py",
   "mimetype": "text/x-python",
   "name": "python",
   "nbconvert_exporter": "python",
   "pygments_lexer": "ipython3",
   "version": "3.11.9"
  }
 },
 "nbformat": 4,
 "nbformat_minor": 2
}
